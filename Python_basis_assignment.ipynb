{
 "cells": [
  {
   "cell_type": "markdown",
   "id": "4215b111-9c18-48d9-8ad1-f4da9c487d08",
   "metadata": {
    "tags": []
   },
   "source": [
    "### 1. Explain the key feature of Python that make it a popular choice for programming."
   ]
  },
  {
   "cell_type": "markdown",
   "id": "562cbeb3-c16f-421a-a306-cd43ef8a82fe",
   "metadata": {},
   "source": [
    "Answer:\n",
    "\n",
    "Python is a programming language that is easy to understand and write, making it a popular choice among developers and programmers.\n",
    "\n",
    "It is compatible with various programming paradigms, such as procedural, object-oriented, and functional programming.\n",
    "\n",
    "Python has a large and active community of developers, an extensive standard library, and third-party packages for various domains."
   ]
  },
  {
   "cell_type": "markdown",
   "id": "57ecbed3-6863-4a20-8f68-273c984e26ca",
   "metadata": {
    "jp-MarkdownHeadingCollapsed": true,
    "tags": []
   },
   "source": [
    "### 2. Describe the role of predefined keywords in Python and provide examples of how they are used in a program."
   ]
  },
  {
   "cell_type": "markdown",
   "id": "61f4ada1-c335-4ef9-b06d-e371aa7495a0",
   "metadata": {},
   "source": [
    "Answer:\n",
    "\n",
    "Predefined keywords in Python are reserved words that have special meanings and are used to define the syntax and structure of the Python language.\n",
    "\n",
    "These keywords cannot be used as identifiers (names for variables, functions, classes, etc.) because they are reserved for their specific syntactic roles. \n",
    "\n",
    "Each keyword serves a distinct purpose and controls different aspects of the language's behavior.\n",
    "\n",
    "Examples of keywords include if, else, while, for, def, class, import, try, except, return, True, False, None, etc.\n",
    "\n",
    "Keywords are case-sensitive and cannot be redefined or overridden within a Python program.\n"
   ]
  },
  {
   "cell_type": "markdown",
   "id": "f4e01e6c-9c75-42f2-976a-1a2e72c686a1",
   "metadata": {},
   "source": [
    "Here are some examples of predefined keywords in Python and how they are used in a program:"
   ]
  },
  {
   "cell_type": "markdown",
   "id": "a91a3cbe-b491-4d1b-8d1f-1e17bf826d9c",
   "metadata": {
    "tags": []
   },
   "source": [
    "#### 1. if:\n",
    "\n",
    "In Python, the if statement is used to execute a block of code only if a specified condition is True.\n",
    " It is a fundamental control structure that allows for decision-making in your program."
   ]
  },
  {
   "cell_type": "code",
   "execution_count": 3,
   "id": "89e95909-fec3-4d9d-bd80-ecb962c73817",
   "metadata": {},
   "outputs": [],
   "source": [
    "# syntax of 'if' statement\n",
    "\n",
    "#if condition:\n",
    "    # code to execute if the condition is True"
   ]
  },
  {
   "cell_type": "code",
   "execution_count": 4,
   "id": "1200d4b7-c959-402a-81c2-10c9b918b3f3",
   "metadata": {},
   "outputs": [
    {
     "name": "stdout",
     "output_type": "stream",
     "text": [
      "The number is greater than 0.\n"
     ]
    }
   ],
   "source": [
    "# example of if statement\n",
    "\n",
    "a = 100 \n",
    "if a > 0:     # Execute the if block , if the condition is True.\n",
    "    print (\"The number is greater than 0.\")"
   ]
  },
  {
   "cell_type": "code",
   "execution_count": 6,
   "id": "db503edc-c060-4751-ba16-fdb7909a8bd6",
   "metadata": {},
   "outputs": [],
   "source": [
    "# example of if statement if condition is False\n",
    "\n",
    "a = 100 \n",
    "if a < 0:     # if the condition is False no execution is done >> nothing printed\n",
    "    print (\"The number is greater than 0.\")"
   ]
  },
  {
   "cell_type": "markdown",
   "id": "56c5889c-d497-4d92-af47-d7fe49b2744b",
   "metadata": {
    "tags": []
   },
   "source": [
    "#### 2. if-else:\n",
    "\n",
    "In Python you can use the else clause to execute code when the if condition is false."
   ]
  },
  {
   "cell_type": "code",
   "execution_count": 21,
   "id": "a193a5ec-e22c-458b-bc5b-cc3d6a2647de",
   "metadata": {
    "tags": []
   },
   "outputs": [],
   "source": [
    "# Basic syntax of if-else\n",
    "\n",
    "#if condition:\n",
    "    # code to execute if the codition is True\n",
    "#else:\n",
    "    # Code to execute if the condition is False"
   ]
  },
  {
   "cell_type": "code",
   "execution_count": 8,
   "id": "3eeff068-5d1e-4e04-91d6-c2a96b0b1805",
   "metadata": {},
   "outputs": [
    {
     "name": "stdout",
     "output_type": "stream",
     "text": [
      "get out of the bar\n"
     ]
    }
   ],
   "source": [
    "# Example of if-else condition\n",
    "\n",
    "age = 17\n",
    "if ( age >= 18 ):    # Condition is False\n",
    "    print (\"You will be served alcohol\")\n",
    "else:\n",
    "    print (\"get out of the bar\") # so else blok is executed"
   ]
  },
  {
   "cell_type": "markdown",
   "id": "fb180f76-1c03-4aa0-b136-833f425df420",
   "metadata": {
    "tags": []
   },
   "source": [
    "#### 3. if-elif-else:\n",
    "\n",
    "The elif (short for \"else if\") clause allows you to check multiple conditions"
   ]
  },
  {
   "cell_type": "code",
   "execution_count": 23,
   "id": "51f6374f-62a8-4a4a-9c1c-8ba3cfb8b7b0",
   "metadata": {},
   "outputs": [],
   "source": [
    "# Basic syntax of if-elif-else\n",
    "\n",
    "#if condition1:\n",
    "    # code to execute if condition1 is true\n",
    "#elif condition2:\n",
    "    # code to execute if condition2 is true\n",
    "#elif condition3:\n",
    "    # code to execute if condition3 is true\n",
    "#else:\n",
    "    # code to execute if none of the above conditions are true"
   ]
  },
  {
   "cell_type": "code",
   "execution_count": 24,
   "id": "d77b202a-6c81-45e2-b9a5-e96c0c63fc2a",
   "metadata": {},
   "outputs": [
    {
     "name": "stdout",
     "output_type": "stream",
     "text": [
      "a is equals to 100 if both the above criteria is not matched\n"
     ]
    }
   ],
   "source": [
    "# Example of if-elif-else condition statement\n",
    "\n",
    "a = 100\n",
    "if ( a > 100 ): # Condition 1\n",
    "    print (\"If a is greater than 100 this block will be executed\")\n",
    "elif ( a < 100 ): # Condition 2 \n",
    "    print (\"If a is less than 100 this block will be executed\")\n",
    "else: # if both the codition are False this block will be executed\n",
    "    print (\"a is equals to 100 if both the above criteria is not matched\")"
   ]
  },
  {
   "cell_type": "code",
   "execution_count": 25,
   "id": "496b2b10-c7fe-47d1-bfd3-da7c2992bd35",
   "metadata": {},
   "outputs": [
    {
     "name": "stdout",
     "output_type": "stream",
     "text": [
      "Grade D\n"
     ]
    }
   ],
   "source": [
    "# One more example of if-elif-else condition statement\n",
    "\n",
    "score = 40\n",
    "if ( score >= 90 ): # Condition 1\n",
    "    print (\"Grade A\")   # If condition on is True this block will be printed\n",
    "elif ( score >= 80 ): # Condition 2 \n",
    "    print (\"Grade B\")   # If Condition 1 is False but Condition 2 is True then this block will be executed\n",
    "elif ( score >= 65 ): # Condition 3 \n",
    "    print (\"Grade C\")  # if condition 1 and 2 both are false but condition 3 is true, this block will be executed\n",
    "elif (score >= 35 ): # Condition 4 \n",
    "    print (\"Grade D\")\n",
    "else: # if non of the above condition are True then this else block is executed\n",
    "    print (\"Fail\")"
   ]
  },
  {
   "cell_type": "markdown",
   "id": "8120c5fd-2f12-481c-87b3-c0b744b10519",
   "metadata": {
    "tags": []
   },
   "source": [
    "#### 4. while:\n",
    "\n",
    "In Python the 'while' loop is used to repeatedly execute a block of code as long as a specified condition remains true. \n",
    "It's a fundamental control structure for iteration.\n",
    "    "
   ]
  },
  {
   "cell_type": "code",
   "execution_count": 19,
   "id": "c7de5b70-60ba-4708-9c98-32b482390047",
   "metadata": {},
   "outputs": [],
   "source": [
    "# Basic syntax of while\n",
    "\n",
    "#while True:\n",
    "    #print(\"This will run forever\")"
   ]
  },
  {
   "cell_type": "code",
   "execution_count": 16,
   "id": "e96593eb-37cf-46f7-993d-86455b0daa78",
   "metadata": {},
   "outputs": [
    {
     "name": "stdout",
     "output_type": "stream",
     "text": [
      "1\n",
      "2\n",
      "3\n",
      "4\n",
      "5\n",
      "6\n"
     ]
    }
   ],
   "source": [
    "# Example of while loop\n",
    "\n",
    "n = 7\n",
    "i = 1\n",
    "while (i < n):   # while condition\n",
    "    print (i)    # block of code 1\n",
    "    i = i + 1    # block of code 2"
   ]
  },
  {
   "cell_type": "markdown",
   "id": "8e65a520-1aee-4e48-b504-27441303f143",
   "metadata": {
    "tags": []
   },
   "source": [
    "#### 5. for:\n",
    "\n",
    "In Python the for loop is used to iterate over a sequence (such as a list, tuple, dictionary, set, or string) and execute a block of code for each item in the sequence. \n",
    "It is a fundamental control structure for iteration. \n",
    "Here is a detailed explanation of how to use the for loop, along with examples:"
   ]
  },
  {
   "cell_type": "code",
   "execution_count": 17,
   "id": "c1db0652-39f6-408b-89f5-8a7e7218ef39",
   "metadata": {},
   "outputs": [],
   "source": [
    "# Basic syntax of for\n",
    "\n",
    "#for item in sequence:\n",
    "    # code to execute for each item"
   ]
  },
  {
   "cell_type": "code",
   "execution_count": 18,
   "id": "2406d7e7-3456-4c97-a4ae-1bf7b2c0d166",
   "metadata": {},
   "outputs": [
    {
     "name": "stdout",
     "output_type": "stream",
     "text": [
      "apple\n",
      "banana\n",
      "cherry\n"
     ]
    }
   ],
   "source": [
    "fruits = ['apple', 'banana', 'cherry']\n",
    "for fruit in fruits:\n",
    "    print(fruit)"
   ]
  },
  {
   "cell_type": "markdown",
   "id": "929c2146-6301-4669-b66e-abd81e5332cc",
   "metadata": {
    "tags": []
   },
   "source": [
    "#### 6. True\n",
    "\n",
    "In Python True is a built-in constant that represents the boolean value for logical truth"
   ]
  },
  {
   "cell_type": "code",
   "execution_count": 28,
   "id": "c2cd0289-b1da-45c9-90e9-dc293fda3e57",
   "metadata": {},
   "outputs": [
    {
     "name": "stdout",
     "output_type": "stream",
     "text": [
      "x is greater than 5\n"
     ]
    }
   ],
   "source": [
    "# Example of True\n",
    "\n",
    "x = 10\n",
    "if x > 5:\n",
    "    print(\"x is greater than 5\")  # if condition is True "
   ]
  },
  {
   "cell_type": "markdown",
   "id": "9c390b3c-f178-4065-8335-f24966ad6339",
   "metadata": {
    "tags": []
   },
   "source": [
    "#### 7. False\n",
    "\n",
    "False is a boolean value used in conditional statements, loops, and expressions that require a logical value."
   ]
  },
  {
   "cell_type": "code",
   "execution_count": 30,
   "id": "3b64f71c-bea3-436c-ae83-821fe372d3ec",
   "metadata": {},
   "outputs": [
    {
     "data": {
      "text/plain": [
       "False"
      ]
     },
     "execution_count": 30,
     "metadata": {},
     "output_type": "execute_result"
    }
   ],
   "source": [
    "# Example of False\n",
    "\n",
    "not True"
   ]
  },
  {
   "cell_type": "code",
   "execution_count": 31,
   "id": "d06856e4-49c5-49f7-b5a1-b72fbff81f8b",
   "metadata": {},
   "outputs": [
    {
     "name": "stdout",
     "output_type": "stream",
     "text": [
      "x is not greater than 5\n"
     ]
    }
   ],
   "source": [
    "x = 3\n",
    "if x > 5: # Condition\n",
    "    print(\"x is greater than 5\") #if condition is True\n",
    "else:\n",
    "    print(\"x is not greater than 5\")  #if condition is False"
   ]
  },
  {
   "cell_type": "markdown",
   "id": "0e7423db-8ea9-43f6-936c-f8cd2e771deb",
   "metadata": {
    "tags": []
   },
   "source": [
    "#### 8. None\n",
    "\n",
    "In Python, the None keyword represents the absence of a value or a null value. \n",
    "It is a special constant that is often used to indicate that a variable has no value assigned or to signify the end of a list of values, the end of a function, or an uninitialized state\n"
   ]
  },
  {
   "cell_type": "code",
   "execution_count": 35,
   "id": "f3f2e9cb-08fe-4199-8dca-0642965b0824",
   "metadata": {},
   "outputs": [
    {
     "name": "stdout",
     "output_type": "stream",
     "text": [
      "Value is None\n"
     ]
    }
   ],
   "source": [
    "# Example of None\n",
    "value = None\n",
    "if value is None:\n",
    "    print(\"Value is None\")\n",
    "else:\n",
    "    print(\"Value is not None\")"
   ]
  },
  {
   "cell_type": "markdown",
   "id": "8e74e2ef-5b1e-4983-b400-38ad618bfa64",
   "metadata": {
    "jp-MarkdownHeadingCollapsed": true,
    "tags": []
   },
   "source": [
    "### 3. Compare and contrast mutable and immutable objects in Python with examples."
   ]
  },
  {
   "cell_type": "markdown",
   "id": "19fd61f2-4f99-4b10-bfa0-c28d214c4a07",
   "metadata": {},
   "source": [
    "Answer:\n",
    "\n",
    "In Python, objects can be either changeable (modifiable) or unchangeable (unchangeable).\n",
    "\n",
    "Mutable objects, such as lists and dictionaries, can be modified after creation, while immutable objects, such as tuples and strings, cannot.\n",
    "\n",
    "Mutability affects how objects are stored and manipulated in memory, impacting performance, memory usage, and concurrency in Python programs."
   ]
  },
  {
   "cell_type": "code",
   "execution_count": 36,
   "id": "07af7e28-9de0-429c-b2ce-773329771f44",
   "metadata": {},
   "outputs": [
    {
     "data": {
      "text/plain": [
       "['Apple', 'Banana', 'Mango', 'Straberry', 'Pineapple']"
      ]
     },
     "execution_count": 36,
     "metadata": {},
     "output_type": "execute_result"
    }
   ],
   "source": [
    "# Examples of Mutability\n",
    "\n",
    "list_cont = [ \"Apple\", \"Banana\", \"Mango\", \"Straberry\", \"Pineapple\" ]\n",
    "list_cont\n"
   ]
  },
  {
   "cell_type": "code",
   "execution_count": 38,
   "id": "5e4c829c-50e0-4994-9cd1-923c3ab7afdc",
   "metadata": {},
   "outputs": [
    {
     "data": {
      "text/plain": [
       "['Apple', 'Banana', 'Carrot', 'Straberry', 'Pineapple']"
      ]
     },
     "execution_count": 38,
     "metadata": {},
     "output_type": "execute_result"
    }
   ],
   "source": [
    "list_cont [2] = \"Carrot\"    #here we have replaced mango to carrot >> mutable\n",
    "list_cont"
   ]
  },
  {
   "cell_type": "code",
   "execution_count": 40,
   "id": "4b1c62b2-7de1-4ec0-821c-2edda86ccf54",
   "metadata": {},
   "outputs": [],
   "source": [
    "# objects / containers whose state or value can be changed after they are created are called as mutable objects or containers\n",
    "# also called as item assignment\n",
    "# list is a type of mutable objects / supports item assignment"
   ]
  },
  {
   "cell_type": "code",
   "execution_count": 41,
   "id": "674604e2-58db-4cca-ba43-c1396f12d728",
   "metadata": {},
   "outputs": [
    {
     "data": {
      "text/plain": [
       "'pratiksha'"
      ]
     },
     "execution_count": 41,
     "metadata": {},
     "output_type": "execute_result"
    }
   ],
   "source": [
    "# Example of Immutablitiy\n",
    "\n",
    "a = \"pratiksha\"\n",
    "a"
   ]
  },
  {
   "cell_type": "code",
   "execution_count": 43,
   "id": "76cbe60b-4fa6-48de-81a0-d2f37c4818eb",
   "metadata": {},
   "outputs": [
    {
     "ename": "NameError",
     "evalue": "name 'v' is not defined",
     "output_type": "error",
     "traceback": [
      "\u001b[0;31m---------------------------------------------------------------------------\u001b[0m",
      "\u001b[0;31mNameError\u001b[0m                                 Traceback (most recent call last)",
      "Cell \u001b[0;32mIn[43], line 1\u001b[0m\n\u001b[0;32m----> 1\u001b[0m a [\u001b[38;5;241m0\u001b[39m] \u001b[38;5;241m=\u001b[39m \u001b[43mv\u001b[49m\n\u001b[1;32m      2\u001b[0m a\n",
      "\u001b[0;31mNameError\u001b[0m: name 'v' is not defined"
     ]
    }
   ],
   "source": [
    "a [0] = v  # string is immutable objects so error \n",
    "a    "
   ]
  },
  {
   "cell_type": "markdown",
   "id": "d8b1346a-9d3a-4c3f-821f-1316c58dcc4e",
   "metadata": {},
   "source": [
    "Key Differences:\n",
    "    \n",
    "1. Mutability:\n",
    "    \n",
    "Immutable Objects: Cannot be changed after creation. Any operation that seems to modify the object actually creates a new object.\n",
    "    \n",
    "Mutable Objects: Can be changed after creation. Operations that modify the object affect the original object.\n",
    "\n",
    "2. Performance:\n",
    "\n",
    "Immutable Objects: Typically have better performance for hash-based operations and can be used as keys in dictionaries or elements in sets.\n",
    "\n",
    "Mutable Objects: Generally involve more overhead for memory management and cannot be used as dictionary keys or set elements.\n",
    "\n",
    "3. Usage:\n",
    "\n",
    "Immutable Objects: Often used for values that should not change, such as constants or keys in data structures.\n",
    "\n",
    "Mutable Objects: Used when you need to modify the data, such as maintaining a list of items or updating a configuration."
   ]
  },
  {
   "cell_type": "markdown",
   "id": "faf7b9c0-2d52-4d4a-a97d-37cba54ccf56",
   "metadata": {
    "jp-MarkdownHeadingCollapsed": true,
    "tags": []
   },
   "source": [
    "### 4. Discuss the different types of operators in Python and provide examples of how they are used."
   ]
  },
  {
   "cell_type": "markdown",
   "id": "da5f53eb-0509-41eb-a36f-ea21409a9201",
   "metadata": {},
   "source": [
    "Answer:\n",
    "\n",
    "In Python operators are special symbols or keywords that perform operations on values and variables.\n",
    "\n",
    "Python supports various types of operators, including arithmetic operators (+, -, *, /), comparison operators (==, !=, <, >), logical operators (and, or, not), assignment operators (=, +=, -=, *=, /=), etc.\n",
    "\n",
    "Operators have precedence and associativity rules that determine the order of evaluation in expressions.\n",
    "\n",
    "Here’s a comprehensive overview of the different types of operators in Python:"
   ]
  },
  {
   "cell_type": "markdown",
   "id": "3f0acdf3-442d-4f46-80c1-05f8365607e5",
   "metadata": {
    "tags": []
   },
   "source": [
    "#### a. Arithmetic Operators\n",
    "\n",
    "Arithmetic operators perform basic mathematical operations.\n",
    "\n",
    "eg. Addition (+), Subtraction (-), Multiplication (*), Division (/), Floor Division (//), Modulus (%), Exponentiation (**)."
   ]
  },
  {
   "cell_type": "code",
   "execution_count": 50,
   "id": "5a3e1ca0-7edc-4c50-adc5-3e537dc12d73",
   "metadata": {},
   "outputs": [
    {
     "data": {
      "text/plain": [
       "15"
      ]
     },
     "execution_count": 50,
     "metadata": {},
     "output_type": "execute_result"
    }
   ],
   "source": [
    "# Addition >> (+) Adds two values\n",
    "\n",
    "a = 10\n",
    "b = 5\n",
    "a + b # addition"
   ]
  },
  {
   "cell_type": "code",
   "execution_count": 51,
   "id": "7400ec59-9d04-47b4-8a82-69460677ecde",
   "metadata": {},
   "outputs": [
    {
     "data": {
      "text/plain": [
       "150"
      ]
     },
     "execution_count": 51,
     "metadata": {},
     "output_type": "execute_result"
    }
   ],
   "source": [
    "# Subtraction >> (-)  Subtracts one value from another\n",
    "\n",
    "200 - 50  # subtraction"
   ]
  },
  {
   "cell_type": "code",
   "execution_count": 52,
   "id": "725a5a21-9d97-4c83-97be-812c61aa79ac",
   "metadata": {},
   "outputs": [
    {
     "data": {
      "text/plain": [
       "30"
      ]
     },
     "execution_count": 52,
     "metadata": {},
     "output_type": "execute_result"
    }
   ],
   "source": [
    "# Multiplication >> (*) Multiplies two values\n",
    "\n",
    "6 * 5   # Multiplication"
   ]
  },
  {
   "cell_type": "code",
   "execution_count": 53,
   "id": "1e980843-1ded-4946-afce-bfbb10310e99",
   "metadata": {},
   "outputs": [
    {
     "data": {
      "text/plain": [
       "5.25"
      ]
     },
     "execution_count": 53,
     "metadata": {},
     "output_type": "execute_result"
    }
   ],
   "source": [
    "# Division >> (/) Divides one value by another\n",
    "\n",
    "21 / 4 "
   ]
  },
  {
   "cell_type": "code",
   "execution_count": 54,
   "id": "265da1c7-cd54-47f2-b7e2-5bb2e57cab5b",
   "metadata": {},
   "outputs": [
    {
     "name": "stdout",
     "output_type": "stream",
     "text": [
      "2\n"
     ]
    }
   ],
   "source": [
    "# Floor Value >> (//) Divides one value by another (result is the largest integer less than or equal to the result)\n",
    "\n",
    "a = 5\n",
    "b = 2\n",
    "print(a // b)"
   ]
  },
  {
   "cell_type": "code",
   "execution_count": 55,
   "id": "8e1dac3a-1749-4dd1-89b7-7704d96825ca",
   "metadata": {},
   "outputs": [
    {
     "data": {
      "text/plain": [
       "1"
      ]
     },
     "execution_count": 55,
     "metadata": {},
     "output_type": "execute_result"
    }
   ],
   "source": [
    "# Modulus >> (%) Returns the remainder of a division operation\n",
    "\n",
    "21 % 4"
   ]
  },
  {
   "cell_type": "code",
   "execution_count": 56,
   "id": "fd882fed-9e93-418b-8b13-6b9ab00ce07f",
   "metadata": {},
   "outputs": [
    {
     "data": {
      "text/plain": [
       "243"
      ]
     },
     "execution_count": 56,
     "metadata": {},
     "output_type": "execute_result"
    }
   ],
   "source": [
    "# Exponentiation >> (**) Raises one value to the power of another\n",
    "\n",
    "3 ** 5"
   ]
  },
  {
   "cell_type": "markdown",
   "id": "65e81fea-aec4-4e06-85f0-c9d2a0e4e4c8",
   "metadata": {
    "tags": []
   },
   "source": [
    "#### b. Comparison Operators\n",
    "\n",
    "Comparison operators are used to compare two values.\n",
    "\n",
    "Types of Comparison Operators are Equal to (==), Not equal to (!=), Greater than (>), Less than (<), Greater than or equal to (>=),\n",
    "Less than or equal to (<=). \n"
   ]
  },
  {
   "cell_type": "code",
   "execution_count": 10,
   "id": "1cad8559-3540-4607-a93e-85bcdc4407b5",
   "metadata": {},
   "outputs": [
    {
     "data": {
      "text/plain": [
       "True"
      ]
     },
     "execution_count": 10,
     "metadata": {},
     "output_type": "execute_result"
    }
   ],
   "source": [
    "# Equal to (==) >>  Checks if two values are equal\n",
    "\n",
    "18 == 18 "
   ]
  },
  {
   "cell_type": "code",
   "execution_count": 11,
   "id": "c179be64-27a5-4321-a9ae-b54adb01d4c0",
   "metadata": {},
   "outputs": [
    {
     "data": {
      "text/plain": [
       "True"
      ]
     },
     "execution_count": 11,
     "metadata": {},
     "output_type": "execute_result"
    }
   ],
   "source": [
    "# Not equal to (!=) >> Checks if two values are not equal\n",
    "\n",
    "5 != 2   # 5 is not equals to 2 "
   ]
  },
  {
   "cell_type": "code",
   "execution_count": 5,
   "id": "2cb46cf1-9fee-4f10-b641-29aa0e51f3ee",
   "metadata": {},
   "outputs": [
    {
     "data": {
      "text/plain": [
       "True"
      ]
     },
     "execution_count": 5,
     "metadata": {},
     "output_type": "execute_result"
    }
   ],
   "source": [
    "# Greater than (>) >>  Checks if one value is greater than another\n",
    "\n",
    "80 > 20"
   ]
  },
  {
   "cell_type": "code",
   "execution_count": 6,
   "id": "628b4561-71f0-40d6-a174-ffc68ccad124",
   "metadata": {},
   "outputs": [
    {
     "data": {
      "text/plain": [
       "False"
      ]
     },
     "execution_count": 6,
     "metadata": {},
     "output_type": "execute_result"
    }
   ],
   "source": [
    "# Less than (<) >> Checks if one value is less than another\n",
    "\n",
    "80 < 20"
   ]
  },
  {
   "cell_type": "code",
   "execution_count": 7,
   "id": "ffcd5734-a425-429b-81c3-8c78b758d936",
   "metadata": {},
   "outputs": [
    {
     "data": {
      "text/plain": [
       "True"
      ]
     },
     "execution_count": 7,
     "metadata": {},
     "output_type": "execute_result"
    }
   ],
   "source": [
    "# Greater than or equal to (>=) >> Checks if one value is greater than or equal to another\n",
    "\n",
    "80 >= 20"
   ]
  },
  {
   "cell_type": "code",
   "execution_count": 8,
   "id": "4fa3381f-358c-4ea6-ad0b-edffc591f4ca",
   "metadata": {},
   "outputs": [
    {
     "data": {
      "text/plain": [
       "True"
      ]
     },
     "execution_count": 8,
     "metadata": {},
     "output_type": "execute_result"
    }
   ],
   "source": [
    "# Less than or equal to (<=) >> Checks if one value is less than or equal to another\n",
    "\n",
    "100 <= 100"
   ]
  },
  {
   "cell_type": "markdown",
   "id": "fc4dac14-0bb8-4438-afce-8329aba75d02",
   "metadata": {
    "tags": []
   },
   "source": [
    "#### c. Logical Operators\n",
    "\n",
    "Logical operators are used to combine conditional statements.\n",
    "\n",
    "Types of Logical operators are And (and), Or (or), Not (not)."
   ]
  },
  {
   "cell_type": "code",
   "execution_count": 14,
   "id": "9468ede8-8268-4e61-9ab8-e0c0b1961725",
   "metadata": {},
   "outputs": [
    {
     "data": {
      "text/plain": [
       "True"
      ]
     },
     "execution_count": 14,
     "metadata": {},
     "output_type": "execute_result"
    }
   ],
   "source": [
    "# And (and) >> Returns True if both statements are true\n",
    "\n",
    "True and True"
   ]
  },
  {
   "cell_type": "code",
   "execution_count": 16,
   "id": "66d10535-db2d-42d1-ab59-6ade16af3d58",
   "metadata": {},
   "outputs": [
    {
     "data": {
      "text/plain": [
       "False"
      ]
     },
     "execution_count": 16,
     "metadata": {},
     "output_type": "execute_result"
    }
   ],
   "source": [
    "True and False # both statements needs to be true"
   ]
  },
  {
   "cell_type": "code",
   "execution_count": 17,
   "id": "38048fce-23af-4a9f-a236-e5bad98fdbd0",
   "metadata": {},
   "outputs": [
    {
     "data": {
      "text/plain": [
       "True"
      ]
     },
     "execution_count": 17,
     "metadata": {},
     "output_type": "execute_result"
    }
   ],
   "source": [
    "# Or (or) >> Returns True if at least one of the statements is true\n",
    "\n",
    "True or False"
   ]
  },
  {
   "cell_type": "code",
   "execution_count": 18,
   "id": "e90b6615-b569-499b-a080-94953aada5d6",
   "metadata": {},
   "outputs": [
    {
     "data": {
      "text/plain": [
       "True"
      ]
     },
     "execution_count": 18,
     "metadata": {},
     "output_type": "execute_result"
    }
   ],
   "source": [
    "False or True"
   ]
  },
  {
   "cell_type": "code",
   "execution_count": 19,
   "id": "35575fb8-f73c-458a-bd46-b2f04a1e363f",
   "metadata": {},
   "outputs": [
    {
     "data": {
      "text/plain": [
       "False"
      ]
     },
     "execution_count": 19,
     "metadata": {},
     "output_type": "execute_result"
    }
   ],
   "source": [
    "# Not (not) >> Returns True if the statement is false\n",
    "\n",
    "not True"
   ]
  },
  {
   "cell_type": "code",
   "execution_count": 20,
   "id": "60aab609-e56a-47ac-a071-bcd84ffe03bd",
   "metadata": {},
   "outputs": [
    {
     "data": {
      "text/plain": [
       "False"
      ]
     },
     "execution_count": 20,
     "metadata": {},
     "output_type": "execute_result"
    }
   ],
   "source": [
    "not True"
   ]
  },
  {
   "cell_type": "markdown",
   "id": "2faf5e5e-ced4-4a8e-8f01-93cedfa6a4b3",
   "metadata": {
    "tags": []
   },
   "source": [
    "#### d. Bitwise Operators \n",
    "\n",
    "Bitwise operators perform operations on bits of integer values.\n",
    "\n",
    "Types of Bitwise Operators are And (&), Or (|), XOR (^), Complement (~), Left shift (<<) and  Right shift (>>)"
   ]
  },
  {
   "cell_type": "code",
   "execution_count": 21,
   "id": "c3d73cb9-600b-4a2d-97a4-380e85fc1d56",
   "metadata": {},
   "outputs": [
    {
     "data": {
      "text/plain": [
       "2"
      ]
     },
     "execution_count": 21,
     "metadata": {},
     "output_type": "execute_result"
    }
   ],
   "source": [
    "#  And (&) >> Performs a bitwise AND\n",
    "\n",
    "18 & 3"
   ]
  },
  {
   "cell_type": "code",
   "execution_count": 23,
   "id": "f3707a81-7c6a-496d-b5ad-921c2ceb470b",
   "metadata": {},
   "outputs": [
    {
     "data": {
      "text/plain": [
       "'0b10'"
      ]
     },
     "execution_count": 23,
     "metadata": {},
     "output_type": "execute_result"
    }
   ],
   "source": [
    "bin (2)"
   ]
  },
  {
   "cell_type": "code",
   "execution_count": 24,
   "id": "38f92bd3-1350-4bd2-9c5b-90702c335d0f",
   "metadata": {},
   "outputs": [
    {
     "data": {
      "text/plain": [
       "'0b1000'"
      ]
     },
     "execution_count": 24,
     "metadata": {},
     "output_type": "execute_result"
    }
   ],
   "source": [
    "bin (8)"
   ]
  },
  {
   "cell_type": "code",
   "execution_count": 25,
   "id": "5199e6ea-d98f-4f3e-9d42-2015fe98090d",
   "metadata": {},
   "outputs": [
    {
     "data": {
      "text/plain": [
       "'0b11'"
      ]
     },
     "execution_count": 25,
     "metadata": {},
     "output_type": "execute_result"
    }
   ],
   "source": [
    "bin (3)"
   ]
  },
  {
   "cell_type": "code",
   "execution_count": 26,
   "id": "0b17f9a3-8496-45d5-bbb8-dcf2301dac1a",
   "metadata": {},
   "outputs": [
    {
     "data": {
      "text/plain": [
       "6"
      ]
     },
     "execution_count": 26,
     "metadata": {},
     "output_type": "execute_result"
    }
   ],
   "source": [
    "# Or (|) >> Performs a bitwise OR\n",
    "\n",
    "2 | 6"
   ]
  },
  {
   "cell_type": "code",
   "execution_count": 27,
   "id": "693d36a9-0c61-47f1-8ace-ebcc8ec58493",
   "metadata": {},
   "outputs": [
    {
     "data": {
      "text/plain": [
       "'0b110'"
      ]
     },
     "execution_count": 27,
     "metadata": {},
     "output_type": "execute_result"
    }
   ],
   "source": [
    "bin (6)"
   ]
  },
  {
   "cell_type": "code",
   "execution_count": 28,
   "id": "3bafb473-9822-4be5-a9cb-356d9bad79a4",
   "metadata": {},
   "outputs": [
    {
     "data": {
      "text/plain": [
       "'0b10'"
      ]
     },
     "execution_count": 28,
     "metadata": {},
     "output_type": "execute_result"
    }
   ],
   "source": [
    "bin (2)"
   ]
  },
  {
   "cell_type": "code",
   "execution_count": 29,
   "id": "08732d80-7579-491b-b0ef-32e7a031c99a",
   "metadata": {},
   "outputs": [
    {
     "data": {
      "text/plain": [
       "4"
      ]
     },
     "execution_count": 29,
     "metadata": {},
     "output_type": "execute_result"
    }
   ],
   "source": [
    "# XOR (^) >> Performs a bitwise XOR\n",
    "\n",
    "6 ^ 2"
   ]
  },
  {
   "cell_type": "code",
   "execution_count": 30,
   "id": "60777e4f-cff5-4484-9105-4880a1ec9db8",
   "metadata": {},
   "outputs": [
    {
     "data": {
      "text/plain": [
       "'0b110'"
      ]
     },
     "execution_count": 30,
     "metadata": {},
     "output_type": "execute_result"
    }
   ],
   "source": [
    "bin (6)"
   ]
  },
  {
   "cell_type": "code",
   "execution_count": 31,
   "id": "22e0cce3-8e0c-44cf-a4d3-b97b0c1bf7bb",
   "metadata": {},
   "outputs": [
    {
     "data": {
      "text/plain": [
       "'0b10'"
      ]
     },
     "execution_count": 31,
     "metadata": {},
     "output_type": "execute_result"
    }
   ],
   "source": [
    "bin (2)"
   ]
  },
  {
   "cell_type": "code",
   "execution_count": 32,
   "id": "aa2ea557-d0c3-464c-9c58-15baf60e7604",
   "metadata": {},
   "outputs": [
    {
     "data": {
      "text/plain": [
       "'0b100'"
      ]
     },
     "execution_count": 32,
     "metadata": {},
     "output_type": "execute_result"
    }
   ],
   "source": [
    "bin (4)"
   ]
  },
  {
   "cell_type": "code",
   "execution_count": 35,
   "id": "81b1e835-f66e-4cad-8ed9-0b1b22068520",
   "metadata": {},
   "outputs": [
    {
     "data": {
      "text/plain": [
       "-5"
      ]
     },
     "execution_count": 35,
     "metadata": {},
     "output_type": "execute_result"
    }
   ],
   "source": [
    "# Complement (~) >> performs a bitwise complement\n",
    "\n",
    "~4 "
   ]
  },
  {
   "cell_type": "code",
   "execution_count": 34,
   "id": "57dc1d8f-1225-45cf-95bf-ae40447d5ed5",
   "metadata": {},
   "outputs": [
    {
     "data": {
      "text/plain": [
       "-201"
      ]
     },
     "execution_count": 34,
     "metadata": {},
     "output_type": "execute_result"
    }
   ],
   "source": [
    "~200"
   ]
  },
  {
   "cell_type": "code",
   "execution_count": 39,
   "id": "f9417530-a6a1-4c41-9318-c971292f5b01",
   "metadata": {},
   "outputs": [
    {
     "data": {
      "text/plain": [
       "10"
      ]
     },
     "execution_count": 39,
     "metadata": {},
     "output_type": "execute_result"
    }
   ],
   "source": [
    "# Left shift (<<) >> Shifts bits to the left\n",
    "\n",
    "5 << 1       # left shift by 1 "
   ]
  },
  {
   "cell_type": "code",
   "execution_count": 38,
   "id": "ebda824a-9781-40d9-a11d-46156f248701",
   "metadata": {},
   "outputs": [
    {
     "data": {
      "text/plain": [
       "320"
      ]
     },
     "execution_count": 38,
     "metadata": {},
     "output_type": "execute_result"
    }
   ],
   "source": [
    "80 << 2    # left shift by 2"
   ]
  },
  {
   "cell_type": "code",
   "execution_count": 40,
   "id": "bff30722-fe58-4176-80e8-579a216102e0",
   "metadata": {},
   "outputs": [
    {
     "data": {
      "text/plain": [
       "8"
      ]
     },
     "execution_count": 40,
     "metadata": {},
     "output_type": "execute_result"
    }
   ],
   "source": [
    "# Right shift (>>) >> Shifts bits to the right\n",
    "\n",
    "32 >> 2"
   ]
  },
  {
   "cell_type": "code",
   "execution_count": 41,
   "id": "1e595e45-2b9b-4b60-bfb7-450015517679",
   "metadata": {},
   "outputs": [
    {
     "data": {
      "text/plain": [
       "8"
      ]
     },
     "execution_count": 41,
     "metadata": {},
     "output_type": "execute_result"
    }
   ],
   "source": [
    "16 >> 1"
   ]
  },
  {
   "cell_type": "markdown",
   "id": "41084279-8722-40af-85b2-49a20bfb0322",
   "metadata": {
    "tags": []
   },
   "source": [
    "#### e. Assignment Operators\n",
    "\n",
    "Assignment operators are used to assign values to variables.\n",
    "\n",
    "Types of Assignment operators are Assign (=), Add and assign (+=), Subtract and assign (-=), Multiply and assign (*=) and\n",
    "Divide and assign (/=)"
   ]
  },
  {
   "cell_type": "code",
   "execution_count": 44,
   "id": "2a721d3c-78c5-47ef-bb93-c275bcb7b5db",
   "metadata": {},
   "outputs": [
    {
     "data": {
      "text/plain": [
       "5"
      ]
     },
     "execution_count": 44,
     "metadata": {},
     "output_type": "execute_result"
    }
   ],
   "source": [
    "# Assign (=) >> Assigns a value to a variable\n",
    "\n",
    "b = 5\n",
    "b"
   ]
  },
  {
   "cell_type": "code",
   "execution_count": 47,
   "id": "c759be7b-5bf0-4ec8-aa9e-1840f54adabe",
   "metadata": {},
   "outputs": [
    {
     "data": {
      "text/plain": [
       "5"
      ]
     },
     "execution_count": 47,
     "metadata": {},
     "output_type": "execute_result"
    }
   ],
   "source": [
    "c = 5\n",
    "d = 10\n",
    "c"
   ]
  },
  {
   "cell_type": "code",
   "execution_count": 48,
   "id": "ac39863b-25fb-47fa-bc8a-6370d8e3755a",
   "metadata": {},
   "outputs": [
    {
     "data": {
      "text/plain": [
       "10"
      ]
     },
     "execution_count": 48,
     "metadata": {},
     "output_type": "execute_result"
    }
   ],
   "source": [
    "d"
   ]
  },
  {
   "cell_type": "code",
   "execution_count": 50,
   "id": "7c3a4389-2f70-425e-aa6f-8f877c76cb70",
   "metadata": {},
   "outputs": [
    {
     "data": {
      "text/plain": [
       "68"
      ]
     },
     "execution_count": 50,
     "metadata": {},
     "output_type": "execute_result"
    }
   ],
   "source": [
    "# Add and assign (+=) >> Adds a value to a variable and assigns the result\n",
    "\n",
    "b = 50       #command += 1st addition is executed then =\n",
    "b += 18\n",
    "b"
   ]
  },
  {
   "cell_type": "code",
   "execution_count": 52,
   "id": "2314c5d8-d358-41e1-8967-546a4cf6de05",
   "metadata": {},
   "outputs": [
    {
     "data": {
      "text/plain": [
       "32"
      ]
     },
     "execution_count": 52,
     "metadata": {},
     "output_type": "execute_result"
    }
   ],
   "source": [
    "# Subtract and assign (-=) >> Subtracts a value from a variable and assigns the result\n",
    "\n",
    "b = 50       #command -= 1st subtraction is executed then =\n",
    "b -= 18\n",
    "b"
   ]
  },
  {
   "cell_type": "code",
   "execution_count": 59,
   "id": "68817ac2-ecc5-48c1-99af-de803d34dcc4",
   "metadata": {},
   "outputs": [
    {
     "data": {
      "text/plain": [
       "50"
      ]
     },
     "execution_count": 59,
     "metadata": {},
     "output_type": "execute_result"
    }
   ],
   "source": [
    "# Multiply and assign (*=) >> Multiplies a variable by a value and assigns the result\n",
    " \n",
    "a = 5\n",
    "a *= 10\n",
    "a"
   ]
  },
  {
   "cell_type": "code",
   "execution_count": 60,
   "id": "763171be-38c1-42a9-b373-b7d43f6efa2e",
   "metadata": {},
   "outputs": [
    {
     "data": {
      "text/plain": [
       "5.0"
      ]
     },
     "execution_count": 60,
     "metadata": {},
     "output_type": "execute_result"
    }
   ],
   "source": [
    "# Divide and assign (/=) >> Divides a variable by a value and assigns the result\n",
    "\n",
    "c = 30\n",
    "c /= 6\n",
    "c"
   ]
  },
  {
   "cell_type": "markdown",
   "id": "73969c77-9356-457d-9252-3bb77c90528f",
   "metadata": {
    "tags": []
   },
   "source": [
    "#### f. Identity Operators\n",
    "\n",
    "Identity operators are used to compare the memory locations of two objects\n",
    "\n",
    "Types of Identity Operators are Is (is) and Is not (is not)"
   ]
  },
  {
   "cell_type": "code",
   "execution_count": 61,
   "id": "a6c69ce4-3ba1-471f-a5c8-1c26b59fc023",
   "metadata": {},
   "outputs": [],
   "source": [
    "# Is (is) >> Checks if two variables point to the same object\n",
    "\n",
    "a = 10\n",
    "b = 20"
   ]
  },
  {
   "cell_type": "code",
   "execution_count": 62,
   "id": "4c775a79-2c4a-4653-86d2-8af43d039a05",
   "metadata": {},
   "outputs": [
    {
     "data": {
      "text/plain": [
       "False"
      ]
     },
     "execution_count": 62,
     "metadata": {},
     "output_type": "execute_result"
    }
   ],
   "source": [
    "a is b"
   ]
  },
  {
   "cell_type": "code",
   "execution_count": 63,
   "id": "5ef41b4c-7891-4f2e-a97d-cb4fd1cb015c",
   "metadata": {},
   "outputs": [],
   "source": [
    "# Is not (is not) >> Checks if two variables do not point to the same object\n",
    "\n",
    "a = 10\n",
    "b = 20"
   ]
  },
  {
   "cell_type": "code",
   "execution_count": 64,
   "id": "7a2a5ad5-ba40-4644-ad1a-dcb48319fa0b",
   "metadata": {},
   "outputs": [
    {
     "data": {
      "text/plain": [
       "True"
      ]
     },
     "execution_count": 64,
     "metadata": {},
     "output_type": "execute_result"
    }
   ],
   "source": [
    "a is not b"
   ]
  },
  {
   "cell_type": "markdown",
   "id": "640823d7-609c-4d3d-9f8c-4e097c147e49",
   "metadata": {
    "tags": []
   },
   "source": [
    "#### g. Membership Operators\n",
    "\n",
    "Membership operators test for membership in a sequence.\n",
    "\n",
    "There are two types of Membership Operators In (in) and Not in (not in)"
   ]
  },
  {
   "cell_type": "code",
   "execution_count": 65,
   "id": "d1d2e568-c2a3-4cdf-9c3e-09f71e7d8657",
   "metadata": {},
   "outputs": [
    {
     "data": {
      "text/plain": [
       "True"
      ]
     },
     "execution_count": 65,
     "metadata": {},
     "output_type": "execute_result"
    }
   ],
   "source": [
    "# In (in) >> Checks if a value is present in a sequence\n",
    "\n",
    "x = [\"apple\", \"banana\", \"orange\", \"strawberry\", \"blueberry\"]\n",
    "\"apple\" in x   "
   ]
  },
  {
   "cell_type": "code",
   "execution_count": 66,
   "id": "3124dc03-1453-4ec2-bc27-9d9802a3a7c7",
   "metadata": {},
   "outputs": [
    {
     "data": {
      "text/plain": [
       "False"
      ]
     },
     "execution_count": 66,
     "metadata": {},
     "output_type": "execute_result"
    }
   ],
   "source": [
    "x = [\"apple\", \"banana\", \"orange\", \"strawberry\", \"blueberry\"]\n",
    "\"papaya\" in x "
   ]
  },
  {
   "cell_type": "code",
   "execution_count": 67,
   "id": "8d35f7e3-4aba-4951-a452-19bd9e736435",
   "metadata": {},
   "outputs": [
    {
     "data": {
      "text/plain": [
       "False"
      ]
     },
     "execution_count": 67,
     "metadata": {},
     "output_type": "execute_result"
    }
   ],
   "source": [
    "# Not in (not in) >> Checks if a value is not present in a sequence\n",
    "\n",
    "x = [\"apple\", \"banana\", \"orange\", \"strawberry\", \"blueberry\"]\n",
    "\"apple\" not in x  "
   ]
  },
  {
   "cell_type": "code",
   "execution_count": 68,
   "id": "06ca23f5-b3b6-4a28-8264-b97c48c9b335",
   "metadata": {},
   "outputs": [
    {
     "data": {
      "text/plain": [
       "True"
      ]
     },
     "execution_count": 68,
     "metadata": {},
     "output_type": "execute_result"
    }
   ],
   "source": [
    "x = [\"apple\", \"banana\", \"orange\", \"strawberry\", \"blueberry\"]\n",
    "\"papaya\" not in x "
   ]
  },
  {
   "cell_type": "markdown",
   "id": "7cc2def3-71c2-428d-b9c3-aa1eb1a7e9db",
   "metadata": {
    "jp-MarkdownHeadingCollapsed": true,
    "tags": []
   },
   "source": [
    "### 5. Explain the concept of type casting in Python with examples."
   ]
  },
  {
   "cell_type": "markdown",
   "id": "9af7f80e-f7ac-40bd-ba1b-36d8b43eeecf",
   "metadata": {},
   "source": [
    "Type casting in Python refers to the process of converting one data type into another. \n",
    "\n",
    "It can be done explicitly by the programmer to ensure that operations and functions receive the correct type of data.\n",
    "\n",
    "Python provides built-in functions for type casting, such as int(), float(), str(), list(), tuple(), dict(), etc.\n",
    "\n",
    "Type casting is often necessary for performing arithmetic operations, data manipulation, and input/output operations in Python programs."
   ]
  },
  {
   "cell_type": "code",
   "execution_count": 1,
   "id": "c66a6cd0-481a-4ab7-8918-5f7c4e303a96",
   "metadata": {},
   "outputs": [
    {
     "name": "stdout",
     "output_type": "stream",
     "text": [
      "42\n",
      "<class 'str'>\n"
     ]
    }
   ],
   "source": [
    "# Integer to String >> can convert an integer to a string using the str() function\n",
    "\n",
    "num = 42\n",
    "num_str = str(num)\n",
    "print(num_str)\n",
    "print(type(num_str)) "
   ]
  },
  {
   "cell_type": "code",
   "execution_count": 2,
   "id": "bd616c21-2f99-41cb-8bad-e05ebd19b21e",
   "metadata": {},
   "outputs": [
    {
     "name": "stdout",
     "output_type": "stream",
     "text": [
      "42\n",
      "<class 'int'>\n"
     ]
    }
   ],
   "source": [
    "# String to Integer >> can convert a string that contains numeric characters to an integer using the int() function\n",
    "\n",
    "num_str = \"42\"\n",
    "num = int(num_str)\n",
    "print(num)  \n",
    "print(type(num))"
   ]
  },
  {
   "cell_type": "code",
   "execution_count": 3,
   "id": "f1ba41b3-bfd9-4928-8192-3ab47078b81c",
   "metadata": {},
   "outputs": [
    {
     "name": "stdout",
     "output_type": "stream",
     "text": [
      "42.0\n",
      "<class 'float'>\n"
     ]
    }
   ],
   "source": [
    "# Integer to Float >> can convert an integer to a float using the float() function\n",
    "\n",
    "num = 42\n",
    "num_float = float(num)\n",
    "print(num_float) \n",
    "print(type(num_float)) "
   ]
  },
  {
   "cell_type": "code",
   "execution_count": 4,
   "id": "1d5bbc9d-fe29-40cb-bfdc-78adb1278f8a",
   "metadata": {},
   "outputs": [
    {
     "name": "stdout",
     "output_type": "stream",
     "text": [
      "42\n",
      "<class 'int'>\n"
     ]
    }
   ],
   "source": [
    "# Float to Integer >> can convert a float to an integer using the int() function\n",
    "# This will truncate the decimal part\n",
    "\n",
    "num_float = 42.9\n",
    "num = int(num_float)\n",
    "print(num) \n",
    "print(type(num))"
   ]
  },
  {
   "cell_type": "code",
   "execution_count": 5,
   "id": "118fdcb6-8ed2-4511-81ff-de7c50389625",
   "metadata": {},
   "outputs": [
    {
     "name": "stdout",
     "output_type": "stream",
     "text": [
      "Hello\n",
      "<class 'str'>\n"
     ]
    }
   ],
   "source": [
    "# List to String >> can convert a list of characters to a string using the ''.join() method\n",
    "\n",
    "char_list = ['H', 'e', 'l', 'l', 'o']\n",
    "string = ''.join(char_list)\n",
    "print(string)\n",
    "print(type(string))"
   ]
  },
  {
   "cell_type": "code",
   "execution_count": 6,
   "id": "397477a2-a6da-40df-9771-7239abbb824f",
   "metadata": {},
   "outputs": [
    {
     "name": "stdout",
     "output_type": "stream",
     "text": [
      "['H', 'e', 'l', 'l', 'o']\n",
      "<class 'list'>\n"
     ]
    }
   ],
   "source": [
    "# String to List >> You can convert a string to a list of characters using the list() function\n",
    "\n",
    "string = \"Hello\"\n",
    "char_list = list(string)\n",
    "print(char_list)  \n",
    "print(type(char_list))"
   ]
  },
  {
   "cell_type": "code",
   "execution_count": 7,
   "id": "b1cc37f0-e61f-48a5-b93f-478e93db92f8",
   "metadata": {},
   "outputs": [
    {
     "data": {
      "text/plain": [
       "int"
      ]
     },
     "execution_count": 7,
     "metadata": {},
     "output_type": "execute_result"
    }
   ],
   "source": [
    "# Type casting is of two types Implicit and Expicit \n",
    "\n",
    "# Implicit type casting >> python understands the data type on its own \n",
    "\n",
    "a = 5\n",
    "type (a)"
   ]
  },
  {
   "cell_type": "code",
   "execution_count": 8,
   "id": "e3f4b998-b79a-460a-a624-0ca5ff04e5d6",
   "metadata": {},
   "outputs": [
    {
     "data": {
      "text/plain": [
       "5.5"
      ]
     },
     "execution_count": 8,
     "metadata": {},
     "output_type": "execute_result"
    }
   ],
   "source": [
    "2 + 3.5    #Implicit type casting"
   ]
  },
  {
   "cell_type": "code",
   "execution_count": 9,
   "id": "95a50bc6-e3ca-47ff-9387-6f16fd9c4efc",
   "metadata": {},
   "outputs": [
    {
     "data": {
      "text/plain": [
       "5"
      ]
     },
     "execution_count": 9,
     "metadata": {},
     "output_type": "execute_result"
    }
   ],
   "source": [
    "2 + 3   # Implicit type casting"
   ]
  },
  {
   "cell_type": "code",
   "execution_count": 10,
   "id": "00ad7e4b-6b7a-49a4-9db5-83cefea9c5a2",
   "metadata": {},
   "outputs": [
    {
     "data": {
      "text/plain": [
       "str"
      ]
     },
     "execution_count": 10,
     "metadata": {},
     "output_type": "execute_result"
    }
   ],
   "source": [
    "# Explicit Type casting >> converting data type using inbuilt fuctions --> str, int , flaot, bool\n",
    "\n",
    "a = \"2\"\n",
    "type (a)"
   ]
  },
  {
   "cell_type": "code",
   "execution_count": 11,
   "id": "d3c89c0a-661c-4610-805a-ca3ca38f60c6",
   "metadata": {},
   "outputs": [
    {
     "data": {
      "text/plain": [
       "2"
      ]
     },
     "execution_count": 11,
     "metadata": {},
     "output_type": "execute_result"
    }
   ],
   "source": [
    "int (a)"
   ]
  },
  {
   "cell_type": "code",
   "execution_count": 12,
   "id": "d454f986-7419-4f67-9339-2df1d6939e7e",
   "metadata": {},
   "outputs": [
    {
     "data": {
      "text/plain": [
       "2.0"
      ]
     },
     "execution_count": 12,
     "metadata": {},
     "output_type": "execute_result"
    }
   ],
   "source": [
    "float (a)"
   ]
  },
  {
   "cell_type": "markdown",
   "id": "ad3fee25-dc2b-4b9f-a48a-edfd38f48fc4",
   "metadata": {
    "jp-MarkdownHeadingCollapsed": true,
    "tags": []
   },
   "source": [
    "### 6. How do conditional statements work in Python? Illustrate with examples."
   ]
  },
  {
   "cell_type": "markdown",
   "id": "25b194d6-f184-41cb-8b83-0f5ede5d9b8a",
   "metadata": {},
   "source": [
    "Conditionals in Python are used to execute code based on the evaluation of one or more conditions.\n",
    "\n",
    "Python supports conditional statements such as if, elif (else if), and else to control the flow of execution.\n",
    "\n",
    "Conditionals can be nested to handle multiple conditions and control different branches of execution based on the outcome of logical expressions."
   ]
  },
  {
   "cell_type": "code",
   "execution_count": 13,
   "id": "37da1750-0ad2-4977-a9f5-a4ff9dfaa079",
   "metadata": {},
   "outputs": [],
   "source": [
    "# if Statement >> The if statement checks a condition and executes the block of code that follows it if the condition is True\n",
    "\n",
    "# syntax\n",
    "# if conditon True:\n",
    "#     block of code will be executed  \n"
   ]
  },
  {
   "cell_type": "code",
   "execution_count": 14,
   "id": "00bb73a6-6df6-42a6-8753-0ee656dcfc56",
   "metadata": {},
   "outputs": [
    {
     "name": "stdout",
     "output_type": "stream",
     "text": [
      "The number is greater than 0.\n"
     ]
    }
   ],
   "source": [
    "a = 100 \n",
    "if a > 0:     # Execute the if block , if the condition is True.\n",
    "    print (\"The number is greater than 0.\")"
   ]
  },
  {
   "cell_type": "code",
   "execution_count": 15,
   "id": "e2d0aed3-73f3-4374-8643-06f18336b7a2",
   "metadata": {},
   "outputs": [],
   "source": [
    "a = 100 \n",
    "if a < 0:     # if the condition is False no execution is done >> nothing printed\n",
    "    print (\"The number is greater than 0.\")"
   ]
  },
  {
   "cell_type": "code",
   "execution_count": 16,
   "id": "63531236-44cf-4e10-af11-35a1a7b21ef9",
   "metadata": {},
   "outputs": [],
   "source": [
    "# elif Statement >> The elif (short for \"else if\") statement allows you to check multiple conditions\n",
    "# if the previous conditions are False>>  the elif statement's condition is checked\n",
    "\n",
    "#syntax\n",
    "#if condition1:\n",
    "    # Code block to execute if condition1 is True\n",
    "#elif condition2:\n",
    "    # Code block to execute if condition1 is False and condition2 is True\n",
    "#elif condition3:\n",
    "    # Code block to execute if condition1 and condition2 are False, and condition3 is True\n",
    "#else:\n",
    "    # Code block to execute if all the above conditions are False"
   ]
  },
  {
   "cell_type": "code",
   "execution_count": 17,
   "id": "4bbe684d-f4ca-4d38-b3c4-c7484c0fc638",
   "metadata": {},
   "outputs": [
    {
     "name": "stdin",
     "output_type": "stream",
     "text": [
      "Enter a no: 102\n"
     ]
    },
    {
     "name": "stdout",
     "output_type": "stream",
     "text": [
      "The no is greater than 100\n"
     ]
    }
   ],
   "source": [
    "a = int (input (\"Enter a no:\"))\n",
    "if (a >= 100):\n",
    "    print (\"The no is greater than 100\")\n",
    "elif ( 0 <= a <  100 ):\n",
    "    print (\"The no is greater than 0 but less than 100\")\n",
    "else:\n",
    "    print (\"The no is negative\")"
   ]
  },
  {
   "cell_type": "code",
   "execution_count": 18,
   "id": "c27f6a6e-e616-4b65-8d8b-8977d606d2b8",
   "metadata": {},
   "outputs": [
    {
     "name": "stdin",
     "output_type": "stream",
     "text": [
      "Enter a no: 80\n"
     ]
    },
    {
     "name": "stdout",
     "output_type": "stream",
     "text": [
      "The no is greater than 0 but less than 100\n"
     ]
    }
   ],
   "source": [
    "a = int (input (\"Enter a no:\"))\n",
    "if (a >= 100):\n",
    "    print (\"The no is greater than 100\")\n",
    "elif ( 0 <= a <  100 ):\n",
    "    print (\"The no is greater than 0 but less than 100\")\n",
    "else:\n",
    "    print (\"The no is negative\")"
   ]
  },
  {
   "cell_type": "code",
   "execution_count": 19,
   "id": "295a7613-299b-45e1-8292-84b45a49a629",
   "metadata": {},
   "outputs": [
    {
     "name": "stdin",
     "output_type": "stream",
     "text": [
      "Enter a no: -5\n"
     ]
    },
    {
     "name": "stdout",
     "output_type": "stream",
     "text": [
      "The no is negative\n"
     ]
    }
   ],
   "source": [
    "a = int (input (\"Enter a no:\"))\n",
    "if (a >= 100):\n",
    "    print (\"The no is greater than 100\")\n",
    "elif ( 0 <= a <  100 ):\n",
    "    print (\"The no is greater than 0 but less than 100\")\n",
    "else:\n",
    "    print (\"The no is negative\")"
   ]
  },
  {
   "cell_type": "code",
   "execution_count": 20,
   "id": "9d4d26fa-6e88-43c2-9058-23eaf4174691",
   "metadata": {},
   "outputs": [],
   "source": [
    "# else Statement >> The else statement executes a block of code if none of the previous conditions are True\n",
    "\n",
    "#if condition1:\n",
    "    # Code block to execute if condition1 is True\n",
    "#else:\n",
    "    # Code block to execute if all the above conditions are False"
   ]
  },
  {
   "cell_type": "code",
   "execution_count": 21,
   "id": "2eabb447-1938-43ef-a962-459a2762b0ce",
   "metadata": {},
   "outputs": [
    {
     "name": "stdout",
     "output_type": "stream",
     "text": [
      "Pass\n"
     ]
    }
   ],
   "source": [
    "score = 65\n",
    "if ( score >= 35 ):\n",
    "    print (\"Pass\")\n",
    "else:\n",
    "    print (\"Fail\")"
   ]
  },
  {
   "cell_type": "code",
   "execution_count": 22,
   "id": "e936dbc4-d1f6-4aa2-8454-d8d5b3cb1dc4",
   "metadata": {},
   "outputs": [
    {
     "name": "stdout",
     "output_type": "stream",
     "text": [
      "Fail\n"
     ]
    }
   ],
   "source": [
    "score = 32\n",
    "if ( score >= 35 ):\n",
    "    print (\"Pass\")\n",
    "else:\n",
    "    print (\"Fail\")"
   ]
  },
  {
   "cell_type": "code",
   "execution_count": 23,
   "id": "dfd2b68a-7642-442e-a390-77fa3f8c6bcc",
   "metadata": {},
   "outputs": [],
   "source": [
    "# Nested Conditional Statements >> can also nest conditional statements within each other\n",
    "# This means placing an if, elif, or else statement inside another if, elif, or else block"
   ]
  },
  {
   "cell_type": "code",
   "execution_count": 25,
   "id": "53eb1b7d-69eb-421e-8678-e75f33e6f441",
   "metadata": {},
   "outputs": [
    {
     "name": "stdin",
     "output_type": "stream",
     "text": [
      "Please enter your name: \n",
      "Please enter your email: xyz@gmail.com\n",
      "please enter your password: 12345\n"
     ]
    },
    {
     "name": "stdout",
     "output_type": "stream",
     "text": [
      "Enter a vaild name\n"
     ]
    }
   ],
   "source": [
    "name = input (\"Please enter your name:\")\n",
    "email = input (\"Please enter your email:\")\n",
    "password = input (\"please enter your password:\")\n",
    "\n",
    "if name == \"\":\n",
    "    print (\"Enter a vaild name\")\n",
    "else:\n",
    "    if \"@\" not in email:\n",
    "        print (\"Enter a vaild email\")\n",
    "    else:\n",
    "        if len (password) == 0:\n",
    "            print (\"Password not entered, Please enter a valid password\")\n",
    "        else:\n",
    "            print (\"Registration is Successful\") "
   ]
  },
  {
   "cell_type": "code",
   "execution_count": 26,
   "id": "d5c282ff-6caf-44ce-9b4d-d023a5df37e5",
   "metadata": {},
   "outputs": [
    {
     "name": "stdin",
     "output_type": "stream",
     "text": [
      "Please enter your name: pratiksha\n",
      "Please enter your email: \n",
      "please enter your password: 12345\n"
     ]
    },
    {
     "name": "stdout",
     "output_type": "stream",
     "text": [
      "Enter a vaild email\n"
     ]
    }
   ],
   "source": [
    "name = input (\"Please enter your name:\")\n",
    "email = input (\"Please enter your email:\")\n",
    "password = input (\"please enter your password:\")\n",
    "\n",
    "if name == \"\":\n",
    "    print (\"Enter a vaild name\")\n",
    "else:\n",
    "    if \"@\" not in email:\n",
    "        print (\"Enter a vaild email\")\n",
    "    else:\n",
    "        if len (password) == 0:\n",
    "            print (\"Password not entered, Please enter a valid password\")\n",
    "        else:\n",
    "            print (\"Registration is Successful\") "
   ]
  },
  {
   "cell_type": "code",
   "execution_count": 27,
   "id": "951c2e8c-ac44-44e8-93df-ea56b09c3c98",
   "metadata": {},
   "outputs": [
    {
     "name": "stdin",
     "output_type": "stream",
     "text": [
      "Please enter your name: pratiksha\n",
      "Please enter your email: xyz@gmail.com\n",
      "please enter your password: \n"
     ]
    },
    {
     "name": "stdout",
     "output_type": "stream",
     "text": [
      "Password not entered, Please enter a valid password\n"
     ]
    }
   ],
   "source": [
    "name = input (\"Please enter your name:\")\n",
    "email = input (\"Please enter your email:\")\n",
    "password = input (\"please enter your password:\")\n",
    "\n",
    "if name == \"\":\n",
    "    print (\"Enter a vaild name\")\n",
    "else:\n",
    "    if \"@\" not in email:\n",
    "        print (\"Enter a vaild email\")\n",
    "    else:\n",
    "        if len (password) == 0:\n",
    "            print (\"Password not entered, Please enter a valid password\")\n",
    "        else:\n",
    "            print (\"Registration is Successful\") "
   ]
  },
  {
   "cell_type": "code",
   "execution_count": 28,
   "id": "253903c3-a67b-41c4-8a7a-4da3aae65442",
   "metadata": {},
   "outputs": [
    {
     "name": "stdin",
     "output_type": "stream",
     "text": [
      "Please enter your name: pratiksha\n",
      "Please enter your email: xyz@gmail.com\n",
      "please enter your password: 12345\n"
     ]
    },
    {
     "name": "stdout",
     "output_type": "stream",
     "text": [
      "Registration is Successful\n"
     ]
    }
   ],
   "source": [
    "name = input (\"Please enter your name:\")\n",
    "email = input (\"Please enter your email:\")\n",
    "password = input (\"please enter your password:\")\n",
    "\n",
    "if name == \"\":\n",
    "    print (\"Enter a vaild name\")\n",
    "else:\n",
    "    if \"@\" not in email:\n",
    "        print (\"Enter a vaild email\")\n",
    "    else:\n",
    "        if len (password) == 0:\n",
    "            print (\"Password not entered, Please enter a valid password\")\n",
    "        else:\n",
    "            print (\"Registration is Successful\") "
   ]
  },
  {
   "cell_type": "markdown",
   "id": "b3f1adf6-c406-4ebe-a178-7648cf31c445",
   "metadata": {
    "jp-MarkdownHeadingCollapsed": true,
    "tags": []
   },
   "source": [
    "### 7. Describe the different types of loops in Pythonand their use cases with examples."
   ]
  },
  {
   "cell_type": "markdown",
   "id": "39803acf-d194-409d-82b9-165d6f924fc8",
   "metadata": {},
   "source": [
    "In Python, loops are employed to repeat a sequence of actions or code until a specific condition is fulfilled.\n",
    "\n",
    "Python offers two primary types of loops: for loops and while loops.\n",
    "\n",
    "“for” loops are used for iterating over a sequence of elements, while “while” loops are used for executing code until a specified condition becomes False"
   ]
  },
  {
   "cell_type": "code",
   "execution_count": 30,
   "id": "13463a5d-5e29-4799-a381-801864c55eef",
   "metadata": {},
   "outputs": [],
   "source": [
    "# for Loop >> A for loop is used to iterate over a sequence (such as a list, tuple, string, or range)\n",
    "# and execute a block of code for each item in the sequence"
   ]
  },
  {
   "cell_type": "code",
   "execution_count": 33,
   "id": "d47ec0a8-54f1-4b6e-a056-6f0957163115",
   "metadata": {},
   "outputs": [
    {
     "name": "stdout",
     "output_type": "stream",
     "text": [
      "p\n",
      "r\n",
      "a\n",
      "t\n",
      "i\n",
      "k\n",
      "s\n",
      "h\n",
      "a\n"
     ]
    }
   ],
   "source": [
    "a = \"pratiksha\"   # for loops >> trying to excess data sequencially\n",
    "for i in a:\n",
    "    print (i)"
   ]
  },
  {
   "cell_type": "code",
   "execution_count": 34,
   "id": "93ee28ad-1a9d-4a71-a6bf-c12643aa0db0",
   "metadata": {},
   "outputs": [
    {
     "name": "stdout",
     "output_type": "stream",
     "text": [
      "1\n",
      "2\n",
      "Pratiksha\n",
      "Pai\n"
     ]
    }
   ],
   "source": [
    "# list in for loop statements\n",
    "\n",
    "l = [1,2,\"Pratiksha\",\"Pai\"]\n",
    "for i in l:\n",
    "    print (i)"
   ]
  },
  {
   "cell_type": "code",
   "execution_count": 35,
   "id": "d71cb331-a734-4f43-815b-3b8189ad458d",
   "metadata": {},
   "outputs": [
    {
     "name": "stdout",
     "output_type": "stream",
     "text": [
      "1\n",
      "2\n",
      "Pratiksha\n",
      "Pai\n",
      "This will be executed when for loop ends without a break statement\n"
     ]
    }
   ],
   "source": [
    "# else in for loop statement\n",
    "\n",
    "l = [1,2,\"Pratiksha\",\"Pai\"]\n",
    "for i in l:\n",
    "    print (i)\n",
    "else:\n",
    "    print (\"This will be executed when for loop ends without a break statement\")"
   ]
  },
  {
   "cell_type": "code",
   "execution_count": 36,
   "id": "da3fa4fc-30d4-4a74-9b01-d6669d1817c9",
   "metadata": {},
   "outputs": [
    {
     "name": "stdout",
     "output_type": "stream",
     "text": [
      "1\n",
      "2\n"
     ]
    }
   ],
   "source": [
    "# break in for loop statement\n",
    "\n",
    "l = [1,2,\"Pratiksha\",\"Pai\"]\n",
    "for i in l:\n",
    "    if i == \"Pratiksha\":\n",
    "        break\n",
    "    print (i)\n",
    "else:\n",
    "    print (\"This will be executed when for loop ends without a break statement\")"
   ]
  },
  {
   "cell_type": "code",
   "execution_count": 37,
   "id": "b29bff8f-c7db-460d-a944-0bc74c22308e",
   "metadata": {},
   "outputs": [
    {
     "name": "stdout",
     "output_type": "stream",
     "text": [
      "1\n",
      "2\n",
      "Pai\n",
      "This will be executed when for loop ends with continue statement\n"
     ]
    }
   ],
   "source": [
    "# Contine statement for loop\n",
    "\n",
    "l = [1,2,\"Pratiksha\",\"Pai\"]\n",
    "for i in l:\n",
    "    if i == \"Pratiksha\":\n",
    "        continue\n",
    "    print (i)\n",
    "else:\n",
    "    print (\"This will be executed when for loop ends with continue statement\")"
   ]
  },
  {
   "cell_type": "code",
   "execution_count": 38,
   "id": "1d5bb361-1518-4c03-a7b5-5be2d33aac04",
   "metadata": {},
   "outputs": [],
   "source": [
    "# while loop >> A while loop is used to repeatedly execute a block of code as long as a specified condition is True\n",
    "# The loop continues until the condition becomes False"
   ]
  },
  {
   "cell_type": "code",
   "execution_count": 39,
   "id": "47d6b3c0-9c8d-49eb-b5fb-001ed338756e",
   "metadata": {},
   "outputs": [],
   "source": [
    "# syntax\n",
    "# while condition:\n",
    "# bock of code \n",
    "\n",
    "# while >> is a keyword for while loop"
   ]
  },
  {
   "cell_type": "code",
   "execution_count": 40,
   "id": "a8a8442e-ffcc-4306-9c86-5d039f7f7be3",
   "metadata": {},
   "outputs": [
    {
     "name": "stdout",
     "output_type": "stream",
     "text": [
      "1\n",
      "2\n",
      "3\n",
      "4\n",
      "5\n",
      "6\n"
     ]
    }
   ],
   "source": [
    "n = 7\n",
    "i = 1\n",
    "while (i < n):   # while condition\n",
    "    print (i)    # block of code 1\n",
    "    i = i + 1    # block of code 2"
   ]
  },
  {
   "cell_type": "code",
   "execution_count": 41,
   "id": "2321ca32-6314-4751-8809-ef861e4b84fe",
   "metadata": {},
   "outputs": [
    {
     "name": "stdout",
     "output_type": "stream",
     "text": [
      "5\n",
      "4\n",
      "3\n",
      "2\n",
      "1\n"
     ]
    }
   ],
   "source": [
    "count = 5\n",
    "while (count > 0):\n",
    "    print (count)\n",
    "    count = count - 1"
   ]
  },
  {
   "cell_type": "code",
   "execution_count": 42,
   "id": "c59ca5a0-08a8-42f7-bea1-f2f27df3fd2e",
   "metadata": {},
   "outputs": [
    {
     "name": "stdout",
     "output_type": "stream",
     "text": [
      "1\n",
      "2\n",
      "3\n",
      "4\n",
      "5\n",
      "6\n",
      "This will be executed when the while condition is run successfully without any break\n"
     ]
    }
   ],
   "source": [
    "n = 7\n",
    "i = 1\n",
    "while (i < n):  \n",
    "    print (i)   \n",
    "    i = i + 1\n",
    "else:\n",
    "    print (\"This will be executed when the while condition is run successfully without any break\")"
   ]
  },
  {
   "cell_type": "code",
   "execution_count": 43,
   "id": "04760f37-d39e-4172-baab-76de84281458",
   "metadata": {},
   "outputs": [
    {
     "name": "stdout",
     "output_type": "stream",
     "text": [
      "1\n",
      "2\n"
     ]
    }
   ],
   "source": [
    "# break terminates / exists the loop:\n",
    "# The condition is met it will break a loop\n",
    "\n",
    "n = 7\n",
    "i = 1\n",
    "while (i < n):  \n",
    "    print (i)   \n",
    "    i = i + 1\n",
    "    if i == 3:\n",
    "        break     # It will terminate the loop / exit the loop\n",
    "else:\n",
    "    print (\"This will be executed when the while condition is run successfully without any break\")"
   ]
  },
  {
   "cell_type": "code",
   "execution_count": 44,
   "id": "ca55e52f-95b5-463a-bb3f-5ba87cf2b7e7",
   "metadata": {},
   "outputs": [
    {
     "name": "stdout",
     "output_type": "stream",
     "text": [
      "2\n",
      "4\n",
      "5\n",
      "6\n",
      "7\n",
      "This will be executed when the while condition is run successfully without any break\n"
     ]
    }
   ],
   "source": [
    "#continue in while loop statement >> skips the iteration\n",
    "\n",
    "n = 7\n",
    "i = 1\n",
    "while (i < n):\n",
    "    i = i + 1\n",
    "    if i == 3:      # skips the iteration\n",
    "        continue\n",
    "    print (i)\n",
    "else:\n",
    "    print (\"This will be executed when the while condition is run successfully without any break\")"
   ]
  },
  {
   "cell_type": "code",
   "execution_count": 45,
   "id": "a3830f3c-80d1-4e18-97c7-d15935b37b2d",
   "metadata": {},
   "outputs": [],
   "source": [
    "# Range >> In Python range() is a built-in function that generates a sequence of numbers\n",
    "# It is commonly used in for loops to iterate over a sequence of numbers\n",
    "# The range() function can take one, two, or three arguments, depending on how you want to generate the sequence"
   ]
  },
  {
   "cell_type": "code",
   "execution_count": 46,
   "id": "0368d726-88ff-4016-8d15-51bbd7fec866",
   "metadata": {},
   "outputs": [],
   "source": [
    "# syntax\n",
    "\n",
    "#range(start, stop, step)"
   ]
  },
  {
   "cell_type": "code",
   "execution_count": 47,
   "id": "eb91a3e4-6a13-4ddd-9f64-58e86faffa51",
   "metadata": {},
   "outputs": [
    {
     "name": "stdout",
     "output_type": "stream",
     "text": [
      "0\n",
      "1\n",
      "2\n",
      "3\n",
      "4\n",
      "5\n",
      "6\n",
      "7\n",
      "8\n",
      "9\n"
     ]
    }
   ],
   "source": [
    "for i in range (0,10):\n",
    "    print (i)          # by default print will give output in new line"
   ]
  },
  {
   "cell_type": "code",
   "execution_count": 48,
   "id": "ea6a10ee-315f-4e7a-a9d8-9a55882237e8",
   "metadata": {},
   "outputs": [
    {
     "name": "stdout",
     "output_type": "stream",
     "text": [
      "0 1 2 3 4 5 6 7 8 9 "
     ]
    }
   ],
   "source": [
    "for i in range (0,10):\n",
    "    print (i, end = \" \")    # if you want to increase the space you can by using space key"
   ]
  },
  {
   "cell_type": "code",
   "execution_count": 49,
   "id": "324baa4a-797e-4528-80c6-f722c389d51b",
   "metadata": {},
   "outputs": [
    {
     "data": {
      "text/plain": [
       "[0, 1, 2, 3, 4, 5, 6, 7, 8, 9]"
      ]
     },
     "execution_count": 49,
     "metadata": {},
     "output_type": "execute_result"
    }
   ],
   "source": [
    "# Syntax of range : ( start, stop, step )\n",
    "\n",
    "list (range(0,10))"
   ]
  },
  {
   "cell_type": "code",
   "execution_count": 50,
   "id": "2e64e59b-7176-4ebd-9513-363ef513032c",
   "metadata": {},
   "outputs": [
    {
     "data": {
      "text/plain": [
       "[0, 5, 10, 15, 20, 25, 30, 35, 40, 45, 50, 55, 60, 65, 70, 75, 80, 85, 90, 95]"
      ]
     },
     "execution_count": 50,
     "metadata": {},
     "output_type": "execute_result"
    }
   ],
   "source": [
    "list (range (0,100,5))"
   ]
  },
  {
   "cell_type": "code",
   "execution_count": null,
   "id": "0667df11-c8c6-483b-8b68-7e7091b3cc0c",
   "metadata": {},
   "outputs": [],
   "source": []
  }
 ],
 "metadata": {
  "kernelspec": {
   "display_name": "Python 3 (ipykernel)",
   "language": "python",
   "name": "python3"
  },
  "language_info": {
   "codemirror_mode": {
    "name": "ipython",
    "version": 3
   },
   "file_extension": ".py",
   "mimetype": "text/x-python",
   "name": "python",
   "nbconvert_exporter": "python",
   "pygments_lexer": "ipython3",
   "version": "3.10.8"
  }
 },
 "nbformat": 4,
 "nbformat_minor": 5
}
